{
 "cells": [
  {
   "attachments": {},
   "cell_type": "markdown",
   "metadata": {},
   "source": [
    "## Data Extraction from IFC\n",
    "It is a example of how to use ifcOpenShell-Python to extract building information from an IFC-based BIM model.\n",
    "Please check more details from https://ifcopenshell.org/"
   ]
  },
  {
   "attachments": {},
   "cell_type": "markdown",
   "metadata": {},
   "source": [
    "### Installation\n",
    "At the very first begin, you need to setup a python environment on your system. \n",
    "\n",
    "You can find the multi-methods about IfcOpenShell installation from the doc: https://blenderbim.org/docs-python/ifcopenshell-python/installation.html\n",
    "\n",
    "Also, Please using pip to download, please input following command in your terminal:\n",
    "\n",
    "<b>pip install ifcopenshell</b>"
   ]
  },
  {
   "cell_type": "code",
   "execution_count": 8,
   "metadata": {},
   "outputs": [
    {
     "name": "stderr",
     "output_type": "stream",
     "text": [
      "'pip' is not recognized as an internal or external command,\n",
      "operable program or batch file.\n"
     ]
    }
   ],
   "source": [
    "! pip install ifcopenshell"
   ]
  },
  {
   "attachments": {},
   "cell_type": "markdown",
   "metadata": {},
   "source": [
    "### Import library and Load the model\n",
    "\n",
    "Please download the Barn.ifc from Barn folder in BIM models folder. \n",
    "\n",
    "Save the Barn.ifc  to a folder of your choice\n"
   ]
  },
  {
   "cell_type": "code",
   "execution_count": 8,
   "metadata": {},
   "outputs": [],
   "source": [
    "import ifcopenshell\n",
    "\n",
    "model = ifcopenshell.open('your path here')"
   ]
  },
  {   
   "cell_type": "markdown",
   "metadata": {},
   "source": [
    "### Get the properties of a building element\n",
    "\n",
    "![fence.png](fence.png)\n",
    "\n",
    "1. Let's try to get the properties of this fence"
   ]
  },
  {
   "cell_type": "code",
   "execution_count": 15,
   "metadata": {},
   "outputs": [
    {
     "name": "stdout",
     "output_type": "stream",
     "text": [
      "{'id': 38597, 'type': 'IfcRailing', 'GlobalId': '1PwTMBq157whwRad3WyI0w', 'OwnerHistory': #42=IfcOwnerHistory(#39,#5,$,.NOCHANGE.,$,$,$,1669979581), 'Name': 'feed fence:feed fence:428388', 'Description': None, 'ObjectType': 'feed fence:feed fence', 'ObjectPlacement': #38596=IfcLocalPlacement(#149,#38595), 'Representation': #38590=IfcProductDefinitionShape($,$,(#38588)), 'Tag': '428388', 'PredefinedType': 'NOTDEFINED'}\n"
     ]
    }
   ],
   "source": [
    "# query this fence by guid\n",
    "fence = model.by_guid('1PwTMBq157whwRad3WyI0w')\n",
    "\n",
    "# Gives us a dictionary of attributes, such as:\n",
    "print(fence.get_info())"
   ]
  },
  {
   "attachments": {},
   "cell_type": "markdown",
   "metadata": {},
   "source": [
    "2. Let's get the location information of this fence"
   ]
  },
  {
   "cell_type": "code",
   "execution_count": 11,
   "metadata": {},
   "outputs": [
    {
     "ename": "ModuleNotFoundError",
     "evalue": "No module named 'numpy'",
     "output_type": "error",
     "traceback": [
      "\u001b[1;31m---------------------------------------------------------------------------\u001b[0m",
      "\u001b[1;31mModuleNotFoundError\u001b[0m                       Traceback (most recent call last)",
      "Cell \u001b[1;32mIn[11], line 2\u001b[0m\n\u001b[0;32m      1\u001b[0m \u001b[39m# Also import numpy and ifcopenshell.util.placement\u001b[39;00m\n\u001b[1;32m----> 2\u001b[0m \u001b[39mimport\u001b[39;00m \u001b[39mifcopenshell\u001b[39;00m\u001b[39m.\u001b[39;00m\u001b[39mutil\u001b[39;00m\u001b[39m.\u001b[39;00m\u001b[39mplacement\u001b[39;00m\n\u001b[0;32m      4\u001b[0m \u001b[39m# This returns a 4x4 matrix, including the location and rotation. For example:\u001b[39;00m\n\u001b[0;32m      5\u001b[0m \u001b[39m# array([[ 1.00000000e+00,  0.00000000e+00,  0.00000000e+00, 2.00000000e+00],\u001b[39;00m\n\u001b[0;32m      6\u001b[0m \u001b[39m#        [ 0.00000000e+00,  1.00000000e+00,  0.00000000e+00, 3.00000000e+00],\u001b[39;00m\n\u001b[0;32m      7\u001b[0m \u001b[39m#        [ 0.00000000e+00,  0.00000000e+00,  1.00000000e+00, 5.00000000e+00],\u001b[39;00m\n\u001b[0;32m      8\u001b[0m \u001b[39m#        [ 0.00000000e+00,  0.00000000e+00,  0.00000000e+00, 1.00000000e+00]])\u001b[39;00m\n\u001b[0;32m      9\u001b[0m matrix \u001b[39m=\u001b[39m ifcopenshell\u001b[39m.\u001b[39mutil\u001b[39m.\u001b[39mplacement\u001b[39m.\u001b[39mget_local_placement(fence\u001b[39m.\u001b[39mObjectPlacement)\n",
      "File \u001b[1;32mc:\\Users\\Aiyu\\AppData\\Local\\Programs\\Python\\Python39\\lib\\site-packages\\ifcopenshell\\util\\placement.py:19\u001b[0m\n\u001b[0;32m      1\u001b[0m \u001b[39m# IfcOpenShell - IFC toolkit and geometry engine\u001b[39;00m\n\u001b[0;32m      2\u001b[0m \u001b[39m# Copyright (C) 2021 Dion Moult <dion@thinkmoult.com>\u001b[39;00m\n\u001b[0;32m      3\u001b[0m \u001b[39m#\u001b[39;00m\n\u001b[1;32m   (...)\u001b[0m\n\u001b[0;32m     16\u001b[0m \u001b[39m# You should have received a copy of the GNU Lesser General Public License\u001b[39;00m\n\u001b[0;32m     17\u001b[0m \u001b[39m# along with IfcOpenShell.  If not, see <http://www.gnu.org/licenses/>.\u001b[39;00m\n\u001b[1;32m---> 19\u001b[0m \u001b[39mimport\u001b[39;00m \u001b[39mnumpy\u001b[39;00m \u001b[39mas\u001b[39;00m \u001b[39mnp\u001b[39;00m\n\u001b[0;32m     22\u001b[0m \u001b[39mdef\u001b[39;00m \u001b[39ma2p\u001b[39m(o, z, x):\n\u001b[0;32m     23\u001b[0m     y \u001b[39m=\u001b[39m np\u001b[39m.\u001b[39mcross(z, x)\n",
      "\u001b[1;31mModuleNotFoundError\u001b[0m: No module named 'numpy'"
     ]
    }
   ],
   "source": [
    "# Also import numpy and ifcopenshell.util.placement\n",
    "! pip install numpy\n",
    "import numpy\n",
    "import ifcopenshell.util.placement\n",
    "\n",
    "# This returns a 4x4 matrix, including the location and rotation. For example:\n",
    "# array([[ 1.00000000e+00,  0.00000000e+00,  0.00000000e+00, 2.00000000e+00],\n",
    "#        [ 0.00000000e+00,  1.00000000e+00,  0.00000000e+00, 3.00000000e+00],\n",
    "#        [ 0.00000000e+00,  0.00000000e+00,  1.00000000e+00, 5.00000000e+00],\n",
    "#        [ 0.00000000e+00,  0.00000000e+00,  0.00000000e+00, 1.00000000e+00]])\n",
    "matrix = ifcopenshell.util.placement.get_local_placement(fence.ObjectPlacement)\n",
    "# The last column holds the XYZ values, such as:\n",
    "# [42142.81605485 -7763.76420639     0.        ]\n",
    "print(matrix[:,3][:3])"
   ]
  },
  {
   "attachments": {},
   "cell_type": "markdown",
   "metadata": {},
   "source": [
    "3. Let's get the geometry of this fence"
   ]
  },
  {
   "cell_type": "code",
   "execution_count": 12,
   "metadata": {},
   "outputs": [
    {
     "ename": "NameError",
     "evalue": "name 'fence' is not defined",
     "output_type": "error",
     "traceback": [
      "\u001b[1;31m---------------------------------------------------------------------------\u001b[0m",
      "\u001b[1;31mNameError\u001b[0m                                 Traceback (most recent call last)",
      "Cell \u001b[1;32mIn[12], line 5\u001b[0m\n\u001b[0;32m      2\u001b[0m \u001b[39mimport\u001b[39;00m \u001b[39mifcopenshell\u001b[39;00m\u001b[39m.\u001b[39;00m\u001b[39mgeom\u001b[39;00m\n\u001b[0;32m      4\u001b[0m settings \u001b[39m=\u001b[39m ifcopenshell\u001b[39m.\u001b[39mgeom\u001b[39m.\u001b[39msettings()\n\u001b[1;32m----> 5\u001b[0m shape \u001b[39m=\u001b[39m ifcopenshell\u001b[39m.\u001b[39mgeom\u001b[39m.\u001b[39mcreate_shape(settings, fence)\n\u001b[0;32m      7\u001b[0m \u001b[39m# A 4x4 matrix representing the location and rotation of the element, in the form:\u001b[39;00m\n\u001b[0;32m      8\u001b[0m \u001b[39m# [ [ x_x, y_x, z_x, x   ]\u001b[39;00m\n\u001b[0;32m      9\u001b[0m \u001b[39m#   [ x_y, y_y, z_y, y   ]\u001b[39;00m\n\u001b[1;32m   (...)\u001b[0m\n\u001b[0;32m     17\u001b[0m \u001b[39m# The axes follow a right-handed coordinate system.\u001b[39;00m\n\u001b[0;32m     18\u001b[0m \u001b[39m# Objects are never scaled, so the scale factor of the matrix is always 1.\u001b[39;00m\n\u001b[0;32m     19\u001b[0m matrix \u001b[39m=\u001b[39m shape\u001b[39m.\u001b[39mtransformation\u001b[39m.\u001b[39mmatrix\u001b[39m.\u001b[39mdata\n",
      "\u001b[1;31mNameError\u001b[0m: name 'fence' is not defined"
     ]
    }
   ],
   "source": [
    "# Also import ifcopenshell.geom\n",
    "import ifcopenshell.geom\n",
    "\n",
    "settings = ifcopenshell.geom.settings()\n",
    "shape = ifcopenshell.geom.create_shape(settings, fence)\n",
    "\n",
    "# A 4x4 matrix representing the location and rotation of the element, in the form:\n",
    "# [ [ x_x, y_x, z_x, x   ]\n",
    "#   [ x_y, y_y, z_y, y   ]\n",
    "#   [ x_z, y_z, z_z, z   ]\n",
    "#   [ 0.0, 0.0, 0.0, 1.0 ] ]\n",
    "# The position is given by the last column: (x, y, z)\n",
    "# The rotation is described by the first three columns, by explicitly specifying the local X, Y, Z axes.\n",
    "# The first column is a normalised vector of the local X axis: (x_x, x_y, x_z)\n",
    "# The second column is a normalised vector of the local Y axis: (y_x, y_y, y_z)\n",
    "# The third column is a normalised vector of the local Z axis: (z_x, z_y, z_z)\n",
    "# The axes follow a right-handed coordinate system.\n",
    "# Objects are never scaled, so the scale factor of the matrix is always 1.\n",
    "matrix = shape.transformation.matrix.data\n",
    "\n",
    "# Indices of vertices per triangle face e.g. [f1v1, f1v2, f1v3, f2v1, f2v2, f2v3, ...]\n",
    "faces = shape.geometry.faces\n",
    "\n",
    "# Indices of vertices per edge e.g. [e1v1, e1v2, e2v1, e2v2, ...]\n",
    "edges = shape.geometry.edges\n",
    "\n",
    "# X Y Z of vertices in flattened list e.g. [v1x, v1y, v1z, v2x, v2y, v2z, ...]\n",
    "verts = shape.geometry.verts\n",
    "\n",
    "# Since the lists are flattened, you may prefer to group them like so depending on your geometry kernel\n",
    "grouped_verts = [[verts[i], verts[i + 1], verts[i + 2]] for i in range(0, len(verts), 3)]\n",
    "grouped_edges = [[edges[i], edges[i + 1]] for i in range(0, len(edges), 2)]\n",
    "grouped_faces = [[faces[i], faces[i + 1], faces[i + 2]] for i in range(0, len(faces), 3)]\n",
    "\n",
    "# A list of styles that are relevant to this shape\n",
    "styles = shape.geometry.materials\n",
    "\n",
    "for style in styles:\n",
    "    # Each style is named after the entity class if a default\n",
    "    # material is applied. Otherwise, it is named \"surface-style-{SurfaceStyle.name}\"\n",
    "    # All non-alphanumeric characters are replaced with a \"-\".\n",
    "    print(style.original_name())\n",
    "\n",
    "    # A more human readable name\n",
    "    print(style.name)\n",
    "\n",
    "    # Each style may have diffuse colour RGB codes\n",
    "    if style.has_diffuse:\n",
    "        print(style.diffuse)\n",
    "\n",
    "    # Each style may have transparency data\n",
    "    if style.has_transparency:\n",
    "        print(style.transparency)\n",
    "\n",
    "# Indices of material applied per triangle face e.g. [f1m, f2m, ...]\n",
    "material_ids = shape.geometry.material_ids"
   ]
  },
  {
   "attachments": {},
   "cell_type": "markdown",
   "metadata": {},
   "source": [
    "This example from IfcOpenShell-Python examples. For more usage, please check this link: https://blenderbim.org/docs-python/ifcopenshell-python.html\n",
    "\n",
    "Also the IfcOpenShell-Python API is: https://blenderbim.org/docs-python/autoapi/ifcopenshell/index.html"
   ]
  }
 ],
 "metadata": {
  "kernelspec": {
   "display_name": "Python 3",
   "language": "python",
   "name": "python3"
  },
  "language_info": {
   "codemirror_mode": {
    "name": "ipython",
    "version": 3
   },
   "file_extension": ".py",
   "mimetype": "text/x-python",
   "name": "python",
   "nbconvert_exporter": "python",
   "pygments_lexer": "ipython3",
   "version": "3.9.13"
  },
  "orig_nbformat": 4,
  "vscode": {
   "interpreter": {
    "hash": "3fbb4de6cf1a9df33696650cf1027f65bfde582ba422684e7b68269e9075f63c"
   }
  }
 },
 "nbformat": 4,
 "nbformat_minor": 2
}
